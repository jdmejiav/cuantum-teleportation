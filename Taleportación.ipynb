{
 "cells": [
  {
   "cell_type": "markdown",
   "id": "baf512b3",
   "metadata": {},
   "source": [
    "\n",
    "# Teleportación Cuántica\n",
    "\n",
    "### Juan Diego Mejía\n",
    "\n"
   ]
  },
  {
   "cell_type": "markdown",
   "id": "8e8f7ef6",
   "metadata": {},
   "source": [
    "Link a implementación IBM [Link a circuito](https://quantum-computing.ibm.com/composer/files/new?initial=N4IgdghgtgpiBcIAqMA2MAOB7ATgFwjwEsswQAaEARwgGcoEQB5ABQFEA5ARQEEBlALIACAEwA6AAwBuADpgiYAMaoArgBMYQmdTREARgEYxCxdtlg5VHDADmQqgG0AzAF1zi63cXO3cuQAt7BwNfJQAPIJDyRxFQvQgcHCIYHEiXaIdYjIlQxQjHHIyQ80CCuISklKCssqLQ2DoVayCcoQBaAD4hbxzzBtomzUcQ9q7vYrl4xOTUmPTa4dD8zNCAL2q3ChANWg8iDGJSRhAAXyA)"
   ]
  },
  {
   "cell_type": "code",
   "execution_count": 1,
   "id": "4d756d90",
   "metadata": {},
   "outputs": [],
   "source": [
    "import numpy as np\n",
    "from qiskit import QuantumCircuit, QuantumRegister, ClassicalRegister\n",
    "from qiskit import IBMQ, Aer, transpile, assemble\n",
    "from qiskit.visualization import plot_histogram, plot_bloch_multivector, array_to_latex\n",
    "from qiskit.extensions import Initialize\n",
    "from qiskit.ignis.verification import marginal_counts\n",
    "from qiskit.quantum_info import random_statevector\n"
   ]
  },
  {
   "cell_type": "markdown",
   "id": "2bdb711f",
   "metadata": {},
   "source": [
    "Primero creamos los qbits y los c register para tener control de lo que está sucediendo en la ejecución\n",
    "\n",
    "#### $\\psi_0$\n",
    "\n",
    "<img src=\"./psi0.jpeg\">\n",
    "\n",
    "\n"
   ]
  },
  {
   "cell_type": "code",
   "execution_count": 2,
   "id": "31c9939e",
   "metadata": {
    "scrolled": false
   },
   "outputs": [
    {
     "data": {
      "text/html": [
       "<pre style=\"word-wrap: normal;white-space: pre;background: #fff0;line-height: 1.1;font-family: &quot;Courier New&quot;,Courier,monospace\">      ┌───┐ ░ \n",
       " q_0: ┤ X ├─░─\n",
       "      └───┘ ░ \n",
       " q_1: ──────░─\n",
       "            ░ \n",
       " q_2: ──────░─\n",
       "            ░ \n",
       "c0: 1/════════\n",
       "              \n",
       "c1: 1/════════\n",
       "              </pre>"
      ],
      "text/plain": [
       "      ┌───┐ ░ \n",
       " q_0: ┤ X ├─░─\n",
       "      └───┘ ░ \n",
       " q_1: ──────░─\n",
       "            ░ \n",
       " q_2: ──────░─\n",
       "            ░ \n",
       "c0: 1/════════\n",
       "              \n",
       "c1: 1/════════\n",
       "              "
      ]
     },
     "execution_count": 2,
     "metadata": {},
     "output_type": "execute_result"
    }
   ],
   "source": [
    "q = QuantumRegister(3, name=\"q\")    # Protocol uses 3 qubits\n",
    "c0 = ClassicalRegister(1, name=\"c0\") # and 2 classical bits\n",
    "c1 = ClassicalRegister(1, name=\"c1\") # in 2 different registers\n",
    "circuit = QuantumCircuit(q, c0, c1)\n",
    "circuit.x(q[0])\n",
    "circuit.barrier(q[0],q[1],q[2])\n",
    "\n",
    "circuit.draw()"
   ]
  },
  {
   "cell_type": "markdown",
   "id": "dd951a8a",
   "metadata": {},
   "source": [
    "Vamos a teleportar el estado de q_0 que en este caso será $\\psi$ a q_2"
   ]
  },
  {
   "cell_type": "markdown",
   "id": "bb2d098e",
   "metadata": {},
   "source": [
    "Para Esto, tenemos que superponer los estados, creando un estado de Bell, para esto tenemos que aplicar las Compuerta Hadamar $\\frac{1}{\\sqrt{2}}\\begin{equation}\n",
    "\\begin{pmatrix}\n",
    "1 & 1\\\\\n",
    "1 & -1\n",
    "\\end{pmatrix}\n",
    "\\end{equation} $ y  Cx (negación controlada) \n",
    "\n",
    "\n",
    "#### $\\psi_1$\n",
    "<img src=\"./psi1.jpeg\">\n",
    "\n",
    "\n",
    "#### $\\psi_2$\n",
    "<img src=\"./psi2.jpeg\">\n"
   ]
  },
  {
   "cell_type": "code",
   "execution_count": 3,
   "id": "d1b4722f",
   "metadata": {
    "scrolled": true
   },
   "outputs": [
    {
     "data": {
      "text/html": [
       "<pre style=\"word-wrap: normal;white-space: pre;background: #fff0;line-height: 1.1;font-family: &quot;Courier New&quot;,Courier,monospace\">      ┌───┐ ░           \n",
       " q_0: ┤ X ├─░───────────\n",
       "      └───┘ ░ ┌───┐     \n",
       " q_1: ──────░─┤ H ├──■──\n",
       "            ░ └───┘┌─┴─┐\n",
       " q_2: ──────░──────┤ X ├\n",
       "            ░      └───┘\n",
       "c0: 1/══════════════════\n",
       "                        \n",
       "c1: 1/══════════════════\n",
       "                        </pre>"
      ],
      "text/plain": [
       "      ┌───┐ ░           \n",
       " q_0: ┤ X ├─░───────────\n",
       "      └───┘ ░ ┌───┐     \n",
       " q_1: ──────░─┤ H ├──■──\n",
       "            ░ └───┘┌─┴─┐\n",
       " q_2: ──────░──────┤ X ├\n",
       "            ░      └───┘\n",
       "c0: 1/══════════════════\n",
       "                        \n",
       "c1: 1/══════════════════\n",
       "                        "
      ]
     },
     "execution_count": 3,
     "metadata": {},
     "output_type": "execute_result"
    }
   ],
   "source": [
    "circuit.h(1)\n",
    "circuit.cx(1,2)\n",
    "circuit.draw()"
   ]
  },
  {
   "cell_type": "markdown",
   "id": "90943c40",
   "metadata": {},
   "source": [
    "Ahora para evitar que se realicen operaciones a los qbits en ordenes indeceados, vemos a añadir una barrera para controlar el flujo de tiempo"
   ]
  },
  {
   "cell_type": "code",
   "execution_count": 4,
   "id": "ffe5e668",
   "metadata": {
    "scrolled": true
   },
   "outputs": [
    {
     "data": {
      "text/html": [
       "<pre style=\"word-wrap: normal;white-space: pre;background: #fff0;line-height: 1.1;font-family: &quot;Courier New&quot;,Courier,monospace\">      ┌───┐ ░            ░ \n",
       " q_0: ┤ X ├─░────────────░─\n",
       "      └───┘ ░ ┌───┐      ░ \n",
       " q_1: ──────░─┤ H ├──■───░─\n",
       "            ░ └───┘┌─┴─┐ ░ \n",
       " q_2: ──────░──────┤ X ├─░─\n",
       "            ░      └───┘ ░ \n",
       "c0: 1/═════════════════════\n",
       "                           \n",
       "c1: 1/═════════════════════\n",
       "                           </pre>"
      ],
      "text/plain": [
       "      ┌───┐ ░            ░ \n",
       " q_0: ┤ X ├─░────────────░─\n",
       "      └───┘ ░ ┌───┐      ░ \n",
       " q_1: ──────░─┤ H ├──■───░─\n",
       "            ░ └───┘┌─┴─┐ ░ \n",
       " q_2: ──────░──────┤ X ├─░─\n",
       "            ░      └───┘ ░ \n",
       "c0: 1/═════════════════════\n",
       "                           \n",
       "c1: 1/═════════════════════\n",
       "                           "
      ]
     },
     "execution_count": 4,
     "metadata": {},
     "output_type": "execute_result"
    }
   ],
   "source": [
    "circuit.barrier(q[0],q[1],q[2])\n",
    "circuit.draw()"
   ]
  },
  {
   "cell_type": "markdown",
   "id": "b1c62aba",
   "metadata": {},
   "source": [
    "Ahora aplicamos una vez más la compuerta Cx y posteriormente aplicamos Hadamar otra vez\n",
    "\n",
    "#### $\\psi_3$\n",
    "<img src=\"./psi3.jpeg\">\n",
    "\n",
    "#### $\\psi_4$\n",
    "<img src=\"./psi4.jpeg\">\n"
   ]
  },
  {
   "cell_type": "code",
   "execution_count": 5,
   "id": "622e4832",
   "metadata": {},
   "outputs": [
    {
     "data": {
      "text/html": [
       "<pre style=\"word-wrap: normal;white-space: pre;background: #fff0;line-height: 1.1;font-family: &quot;Courier New&quot;,Courier,monospace\">      ┌───┐ ░            ░      ┌───┐ ░ \n",
       " q_0: ┤ X ├─░────────────░───■──┤ H ├─░─\n",
       "      └───┘ ░ ┌───┐      ░ ┌─┴─┐└───┘ ░ \n",
       " q_1: ──────░─┤ H ├──■───░─┤ X ├──────░─\n",
       "            ░ └───┘┌─┴─┐ ░ └───┘      ░ \n",
       " q_2: ──────░──────┤ X ├─░────────────░─\n",
       "            ░      └───┘ ░            ░ \n",
       "c0: 1/══════════════════════════════════\n",
       "                                        \n",
       "c1: 1/══════════════════════════════════\n",
       "                                        </pre>"
      ],
      "text/plain": [
       "      ┌───┐ ░            ░      ┌───┐ ░ \n",
       " q_0: ┤ X ├─░────────────░───■──┤ H ├─░─\n",
       "      └───┘ ░ ┌───┐      ░ ┌─┴─┐└───┘ ░ \n",
       " q_1: ──────░─┤ H ├──■───░─┤ X ├──────░─\n",
       "            ░ └───┘┌─┴─┐ ░ └───┘      ░ \n",
       " q_2: ──────░──────┤ X ├─░────────────░─\n",
       "            ░      └───┘ ░            ░ \n",
       "c0: 1/══════════════════════════════════\n",
       "                                        \n",
       "c1: 1/══════════════════════════════════\n",
       "                                        "
      ]
     },
     "execution_count": 5,
     "metadata": {},
     "output_type": "execute_result"
    }
   ],
   "source": [
    "circuit.cx(0,1)\n",
    "circuit.h(0)\n",
    "circuit.barrier()\n",
    "circuit.draw()"
   ]
  },
  {
   "cell_type": "markdown",
   "id": "c28effbe",
   "metadata": {},
   "source": [
    "Ahora realizamos una medición a los valores en q_0 y en q_1 para terminar de mandar el estado de q_0 a q_2 (debido al teorema de la no clonación)\n",
    "\n",
    "\n",
    "#### $\\psi_5$\n",
    "<img src=\"./psi5.jpeg\">\n",
    "\n",
    "\n",
    "#### $\\psi_6$\n",
    "<img src=\"./psi6.jpeg\">\n"
   ]
  },
  {
   "cell_type": "code",
   "execution_count": 6,
   "id": "e50ca840",
   "metadata": {},
   "outputs": [
    {
     "data": {
      "text/html": [
       "<pre style=\"word-wrap: normal;white-space: pre;background: #fff0;line-height: 1.1;font-family: &quot;Courier New&quot;,Courier,monospace\">      ┌───┐ ░            ░      ┌───┐ ░ ┌─┐    ░ \n",
       " q_0: ┤ X ├─░────────────░───■──┤ H ├─░─┤M├────░─\n",
       "      └───┘ ░ ┌───┐      ░ ┌─┴─┐└───┘ ░ └╥┘┌─┐ ░ \n",
       " q_1: ──────░─┤ H ├──■───░─┤ X ├──────░──╫─┤M├─░─\n",
       "            ░ └───┘┌─┴─┐ ░ └───┘      ░  ║ └╥┘ ░ \n",
       " q_2: ──────░──────┤ X ├─░────────────░──╫──╫──░─\n",
       "            ░      └───┘ ░            ░  ║  ║  ░ \n",
       "c0: 1/═══════════════════════════════════╩══╬════\n",
       "                                         0  ║    \n",
       "                                            ║    \n",
       "c1: 1/══════════════════════════════════════╩════\n",
       "                                            0    </pre>"
      ],
      "text/plain": [
       "      ┌───┐ ░            ░      ┌───┐ ░ ┌─┐    ░ \n",
       " q_0: ┤ X ├─░────────────░───■──┤ H ├─░─┤M├────░─\n",
       "      └───┘ ░ ┌───┐      ░ ┌─┴─┐└───┘ ░ └╥┘┌─┐ ░ \n",
       " q_1: ──────░─┤ H ├──■───░─┤ X ├──────░──╫─┤M├─░─\n",
       "            ░ └───┘┌─┴─┐ ░ └───┘      ░  ║ └╥┘ ░ \n",
       " q_2: ──────░──────┤ X ├─░────────────░──╫──╫──░─\n",
       "            ░      └───┘ ░            ░  ║  ║  ░ \n",
       "c0: 1/═══════════════════════════════════╩══╬════\n",
       "                                         0  ║    \n",
       "                                            ║    \n",
       "c1: 1/══════════════════════════════════════╩════\n",
       "                                            0    "
      ]
     },
     "execution_count": 6,
     "metadata": {},
     "output_type": "execute_result"
    }
   ],
   "source": [
    "circuit.measure(0,0)\n",
    "circuit.measure(1,1)\n",
    "circuit.barrier()\n",
    "circuit.draw()"
   ]
  },
  {
   "cell_type": "markdown",
   "id": "eee7d7f2",
   "metadata": {},
   "source": [
    "Ahora aplicamos x y z y las mandamos a la salida c0 y c1 respectivamente en caso de que la medición que realicen de q_2 sea 1\n",
    "\n",
    "#### $\\psi_7$\n",
    "<img src=\"./psi7.jpeg\">\n",
    "\n",
    "#### $\\psi_8$\n",
    "<img src=\"./psi8.jpeg\">"
   ]
  },
  {
   "cell_type": "code",
   "execution_count": 7,
   "id": "7b0311b0",
   "metadata": {},
   "outputs": [
    {
     "data": {
      "text/html": [
       "<pre style=\"word-wrap: normal;white-space: pre;background: #fff0;line-height: 1.1;font-family: &quot;Courier New&quot;,Courier,monospace\">      ┌───┐ ░            ░      ┌───┐ ░ ┌─┐    ░               \n",
       " q_0: ┤ X ├─░────────────░───■──┤ H ├─░─┤M├────░───────────────\n",
       "      └───┘ ░ ┌───┐      ░ ┌─┴─┐└───┘ ░ └╥┘┌─┐ ░               \n",
       " q_1: ──────░─┤ H ├──■───░─┤ X ├──────░──╫─┤M├─░───────────────\n",
       "            ░ └───┘┌─┴─┐ ░ └───┘      ░  ║ └╥┘ ░  ┌───┐  ┌───┐ \n",
       " q_2: ──────░──────┤ X ├─░────────────░──╫──╫──░──┤ X ├──┤ Z ├─\n",
       "            ░      └───┘ ░            ░  ║  ║  ░  └─╥─┘  └─╥─┘ \n",
       "                                         ║  ║    ┌──╨──┐   ║   \n",
       "c0: 1/═══════════════════════════════════╩══╬════╡ = 1 ╞═══╬═══\n",
       "                                         0  ║    └─────┘┌──╨──┐\n",
       "c1: 1/══════════════════════════════════════╩═══════════╡ = 1 ╞\n",
       "                                            0           └─────┘</pre>"
      ],
      "text/plain": [
       "      ┌───┐ ░            ░      ┌───┐ ░ ┌─┐    ░               \n",
       " q_0: ┤ X ├─░────────────░───■──┤ H ├─░─┤M├────░───────────────\n",
       "      └───┘ ░ ┌───┐      ░ ┌─┴─┐└───┘ ░ └╥┘┌─┐ ░               \n",
       " q_1: ──────░─┤ H ├──■───░─┤ X ├──────░──╫─┤M├─░───────────────\n",
       "            ░ └───┘┌─┴─┐ ░ └───┘      ░  ║ └╥┘ ░  ┌───┐  ┌───┐ \n",
       " q_2: ──────░──────┤ X ├─░────────────░──╫──╫──░──┤ X ├──┤ Z ├─\n",
       "            ░      └───┘ ░            ░  ║  ║  ░  └─╥─┘  └─╥─┘ \n",
       "                                         ║  ║    ┌──╨──┐   ║   \n",
       "c0: 1/═══════════════════════════════════╩══╬════╡ = 1 ╞═══╬═══\n",
       "                                         0  ║    └─────┘┌──╨──┐\n",
       "c1: 1/══════════════════════════════════════╩═══════════╡ = 1 ╞\n",
       "                                            0           └─────┘"
      ]
     },
     "execution_count": 7,
     "metadata": {},
     "output_type": "execute_result"
    }
   ],
   "source": [
    "circuit.x(2).c_if(c0,1)\n",
    "circuit.z(2).c_if(c1,1)\n",
    "circuit.draw()"
   ]
  },
  {
   "attachments": {
    "imagen.png": {
     "image/png": "[encoded data removed]"
    }
   },
   "cell_type": "markdown",
   "id": "6ced4b46",
   "metadata": {},
   "source": [
    "Ejecución en IBM composer utilizando la máquina BELEM y 2048 shots para la muestra, arrojó los siguientes resultados\n",
    "![ibm.png](attachment:imagen.png)\n",
    "Lo cuál es comporte, ya que se evidencia entrelazamiento entre los qubits, ya que al conocer el estado de los dos primeros, se sabe el valor del último qubit"
   ]
  },
  {
   "cell_type": "code",
   "execution_count": null,
   "id": "19cbad90",
   "metadata": {},
   "outputs": [],
   "source": []
  },
  {
   "cell_type": "code",
   "execution_count": null,
   "id": "a5d2082d",
   "metadata": {},
   "outputs": [],
   "source": []
  }
 ],
 "metadata": {
  "kernelspec": {
   "display_name": "Python 3 (ipykernel)",
   "language": "python",
   "name": "python3"
  },
  "language_info": {
   "codemirror_mode": {
    "name": "ipython",
    "version": 3
   },
   "file_extension": ".py",
   "mimetype": "text/x-python",
   "name": "python",
   "nbconvert_exporter": "python",
   "pygments_lexer": "ipython3",
   "version": "3.9.2"
  }
 },
 "nbformat": 4,
 "nbformat_minor": 5
}
